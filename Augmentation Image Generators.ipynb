{
 "cells": [
  {
   "cell_type": "code",
   "execution_count": 1,
   "id": "74d0bddd",
   "metadata": {},
   "outputs": [
    {
     "name": "stdout",
     "output_type": "stream",
     "text": [
      "Requirement already satisfied: pillow in c:\\users\\hp\\anaconda2\\envs\\tensorflow\\lib\\site-packages (9.5.0)\n"
     ]
    }
   ],
   "source": [
    "!pip install pillow"
   ]
  },
  {
   "cell_type": "code",
   "execution_count": 2,
   "id": "5cdfd262",
   "metadata": {},
   "outputs": [],
   "source": [
    "import tensorflow as tf\n",
    "from tensorflow import keras\n",
    "\n",
    "from keras.preprocessing.image import ImageDataGenerator\n",
    "from keras.preprocessing import image\n",
    "from tensorflow.keras.preprocessing.image import load_img , img_to_array"
   ]
  },
  {
   "cell_type": "code",
   "execution_count": 3,
   "id": "d8b7cced",
   "metadata": {},
   "outputs": [],
   "source": [
    "datagen = ImageDataGenerator(\n",
    "rotation_range=40,\n",
    "width_shift_range=0.2,\n",
    "height_shift_range=0.2,\n",
    "shear_range=0.2,\n",
    "horizontal_flip=True,\n",
    "fill_mode='nearest')"
   ]
  },
  {
   "cell_type": "code",
   "execution_count": 4,
   "id": "161f97ec",
   "metadata": {},
   "outputs": [],
   "source": [
    "img=  load_img(\"C:\\\\Users\\\\HP\\\\Desktop\\\\dog\\\\appa.jpg\")"
   ]
  },
  {
   "cell_type": "code",
   "execution_count": 5,
   "id": "5d33df3f",
   "metadata": {},
   "outputs": [],
   "source": [
    "x=img_to_array(img)"
   ]
  },
  {
   "cell_type": "code",
   "execution_count": 6,
   "id": "a9b19cf6",
   "metadata": {},
   "outputs": [],
   "source": [
    "x=x.reshape((1,)+x.shape)"
   ]
  },
  {
   "cell_type": "code",
   "execution_count": 8,
   "id": "f8fa1142",
   "metadata": {},
   "outputs": [],
   "source": [
    "i=0\n",
    "for batch in datagen.flow(x, batch_size=1, save_to_dir = \"C:\\\\Users\\\\HP\\\\Desktop\\\\dog\", save_prefix = 'leone',save_format='jpeg'):\n",
    "    i+=1\n",
    "    if i>10:\n",
    "        break"
   ]
  },
  {
   "cell_type": "code",
   "execution_count": null,
   "id": "b9e2b111",
   "metadata": {},
   "outputs": [],
   "source": [
    "    "
   ]
  }
 ],
 "metadata": {
  "kernelspec": {
   "display_name": "Python 3 (ipykernel)",
   "language": "python",
   "name": "python3"
  },
  "language_info": {
   "codemirror_mode": {
    "name": "ipython",
    "version": 3
   },
   "file_extension": ".py",
   "mimetype": "text/x-python",
   "name": "python",
   "nbconvert_exporter": "python",
   "pygments_lexer": "ipython3",
   "version": "3.10.11"
  }
 },
 "nbformat": 4,
 "nbformat_minor": 5
}
