{
 "cells": [
  {
   "cell_type": "code",
   "execution_count": 1,
   "id": "f01eaafb",
   "metadata": {},
   "outputs": [],
   "source": [
    "import tensorflow as tf"
   ]
  },
  {
   "cell_type": "code",
   "execution_count": 2,
   "id": "90045618",
   "metadata": {},
   "outputs": [],
   "source": [
    "#Define RNN model\n",
    "rnn= tf.keras.layers.SimpleRNN(units=64)"
   ]
  },
  {
   "cell_type": "code",
   "execution_count": 3,
   "id": "fa4be250",
   "metadata": {},
   "outputs": [],
   "source": [
    "#Define Loss Function\n",
    "loss_fn=tf.keras.losses.MeanSquaredError()"
   ]
  },
  {
   "cell_type": "code",
   "execution_count": 4,
   "id": "fcb58b60",
   "metadata": {},
   "outputs": [],
   "source": [
    "# Define Optimizer\n",
    "optimizer=tf.keras.optimizers.SGD(learning_rate=0.01)"
   ]
  },
  {
   "cell_type": "code",
   "execution_count": 5,
   "id": "6169bdb2",
   "metadata": {},
   "outputs": [],
   "source": [
    "# Generate Dummy Data\n",
    "input_data=tf.random.normal(shape=(32,10,32))\n",
    "target_data = tf.random.normal(shape=(32,64)) #adjust shape to match predictions"
   ]
  },
  {
   "cell_type": "code",
   "execution_count": 6,
   "id": "ce9c2407",
   "metadata": {},
   "outputs": [],
   "source": [
    "#perform forward pass\n",
    "with tf.GradientTape() as tape:\n",
    "    predictions = rnn(input_data)\n",
    "    loss_value = loss_fn(target_data,predictions)"
   ]
  },
  {
   "cell_type": "code",
   "execution_count": 7,
   "id": "e88cfff3",
   "metadata": {},
   "outputs": [],
   "source": [
    "# perform backward pass\n",
    "gradients=tape.gradient(loss_value,rnn.trainable_variables)"
   ]
  },
  {
   "cell_type": "code",
   "execution_count": 8,
   "id": "4aecb57e",
   "metadata": {},
   "outputs": [
    {
     "data": {
      "text/plain": [
       "<tf.Variable 'UnreadVariable' shape=() dtype=int64, numpy=1>"
      ]
     },
     "execution_count": 8,
     "metadata": {},
     "output_type": "execute_result"
    }
   ],
   "source": [
    "# Update parameters\n",
    "optimizer.apply_gradients(zip(gradients,rnn.trainable_variables))"
   ]
  },
  {
   "cell_type": "code",
   "execution_count": null,
   "id": "3c76e8f9",
   "metadata": {},
   "outputs": [],
   "source": []
  }
 ],
 "metadata": {
  "kernelspec": {
   "display_name": "Python 3 (ipykernel)",
   "language": "python",
   "name": "python3"
  },
  "language_info": {
   "codemirror_mode": {
    "name": "ipython",
    "version": 3
   },
   "file_extension": ".py",
   "mimetype": "text/x-python",
   "name": "python",
   "nbconvert_exporter": "python",
   "pygments_lexer": "ipython3",
   "version": "3.10.11"
  }
 },
 "nbformat": 4,
 "nbformat_minor": 5
}
